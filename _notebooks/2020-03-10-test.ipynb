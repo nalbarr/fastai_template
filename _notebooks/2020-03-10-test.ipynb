{
 "cells": [
  {
   "cell_type": "markdown",
   "metadata": {},
   "source": [
    "# 2020.03.10 - My first post\n",
    "> This is my first test post to understanding Git branch merge\n",
    "\n",
    "- toc: true \n",
    "- badges: true\n",
    "- comments: true\n",
    "- author: Narciso Albarracin"
   ]
  },
  {
   "cell_type": "markdown",
   "metadata": {},
   "source": [
    "## Sub Topic 123\n",
    "\n",
    "## Heading 1\n",
    "Paragraph 1.\n",
    "\n",
    "## Heading 2\n",
    "Paragraph 2.\n",
    "\n",
    "### Sub-heading\n",
    "This is a sentence\n",
    "\n",
    "This is a list:\n",
    "1. One\n",
    "2. Two\n",
    "3. Three\n",
    "\n",
    "This is another list:\n",
    "- One\n",
    "- Two\n",
    "- Three"
   ]
  },
  {
   "cell_type": "code",
   "execution_count": 1,
   "metadata": {},
   "outputs": [],
   "source": [
    "def foo(x):\n",
    "    ### Print x\n",
    "    return x + \", \" + \"World.\""
   ]
  },
  {
   "cell_type": "code",
   "execution_count": 2,
   "metadata": {},
   "outputs": [],
   "source": [
    "expected = \"Hello, World.\"\n",
    "actual = foo(\"Hello\")\n",
    "assert actual == expected"
   ]
  },
  {
   "cell_type": "code",
   "execution_count": 4,
   "metadata": {},
   "outputs": [],
   "source": [
    "#hide\n",
    "expected = \"Hello, World.\"\n",
    "actual = foo(\"Hello\")\n",
    "assert actual == expected"
   ]
  },
  {
   "cell_type": "code",
   "execution_count": 5,
   "metadata": {},
   "outputs": [],
   "source": [
    "#collapse-show\n",
    "expected = \"Hello, World.\"\n",
    "actual = foo(\"Hello\")\n",
    "assert actual == expected"
   ]
  }
 ],
 "metadata": {
  "kernelspec": {
   "display_name": "Python 3",
   "language": "python",
   "name": "python3"
  },
  "language_info": {
   "codemirror_mode": {
    "name": "ipython",
    "version": 3
   },
   "file_extension": ".py",
   "mimetype": "text/x-python",
   "name": "python",
   "nbconvert_exporter": "python",
   "pygments_lexer": "ipython3",
   "version": "3.7.4"
  }
 },
 "nbformat": 4,
 "nbformat_minor": 2
}
